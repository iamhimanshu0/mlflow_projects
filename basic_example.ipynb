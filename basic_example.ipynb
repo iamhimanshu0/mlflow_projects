{
 "cells": [
  {
   "cell_type": "code",
   "execution_count": 1,
   "metadata": {},
   "outputs": [],
   "source": [
    "import mlflow\n",
    "from sklearn.datasets import load_iris\n",
    "import pandas as pd"
   ]
  },
  {
   "cell_type": "code",
   "execution_count": 2,
   "metadata": {},
   "outputs": [],
   "source": [
    "def load_data():    \n",
    "    data = load_iris()\n",
    "    df = pd.DataFrame(data['data'], columns=data['feature_names'])\n",
    "    df['target'] = data['target']\n",
    "    return df \n",
    "\n",
    "df = load_data()"
   ]
  },
  {
   "cell_type": "code",
   "execution_count": 4,
   "metadata": {},
   "outputs": [],
   "source": [
    "# df.iloc[:,:-1]"
   ]
  },
  {
   "cell_type": "code",
   "execution_count": 3,
   "metadata": {},
   "outputs": [],
   "source": [
    "def create_train_test_split(df, test_size):\n",
    "    from sklearn.model_selection import train_test_split\n",
    "\n",
    "    x_train, x_test, y_train, y_test = train_test_split(df.iloc[:,:-1], df['target'], test_size=test_size, random_state=123)\n",
    "    return x_train, x_test, y_train, y_test"
   ]
  },
  {
   "cell_type": "code",
   "execution_count": 12,
   "metadata": {},
   "outputs": [
    {
     "data": {
      "text/plain": [
       "((97, 4), (97,), (53, 4), (53,))"
      ]
     },
     "execution_count": 12,
     "metadata": {},
     "output_type": "execute_result"
    }
   ],
   "source": [
    "x_train, x_test, y_train, y_test = create_train_test_split(df, 0.35)\n",
    "x_train.shape, y_train.shape, x_test.shape, y_test.shape"
   ]
  },
  {
   "cell_type": "code",
   "execution_count": 13,
   "metadata": {},
   "outputs": [],
   "source": [
    "def create_basic_model(x_train, x_test, y_train, y_test):\n",
    "    from sklearn.linear_model import LogisticRegression\n",
    "    from sklearn.metrics import accuracy_score, recall_score, precision_score, f1_score\n",
    "\n",
    "    lr = LogisticRegression()\n",
    "    lr.fit(x_train,y_train)\n",
    "    predict = lr.predict(x_test)\n",
    "    accuracy = accuracy_score(y_test, predict)\n",
    "    recall = recall_score(y_test, predict, average='micro')\n",
    "    precision = precision_score(y_test, predict, average='micro')\n",
    "    f1_ = f1_score(y_test, predict, average='micro')\n",
    "\n",
    "    return lr, {\n",
    "        \"accuracy\":accuracy,\n",
    "        \"recall\":recall,\n",
    "        \"precision\":precision,\n",
    "        \"f1 Score\": f1_\n",
    "    }"
   ]
  },
  {
   "cell_type": "code",
   "execution_count": 15,
   "metadata": {},
   "outputs": [
    {
     "name": "stdout",
     "output_type": "stream",
     "text": [
      "LogisticRegression()\n",
      "{'accuracy': 0.9622641509433962, 'recall': 0.9622641509433962, 'precision': 0.9622641509433962, 'f1 Score': 0.9622641509433962}\n"
     ]
    }
   ],
   "source": [
    "model, information = create_basic_model(x_train, x_test, y_train, y_test)\n",
    "print(model)\n",
    "print(information)"
   ]
  },
  {
   "cell_type": "markdown",
   "metadata": {},
   "source": [
    "## ML FLOW works start here"
   ]
  },
  {
   "cell_type": "code",
   "execution_count": 16,
   "metadata": {},
   "outputs": [],
   "source": [
    "experiment_name = \"basic_model\"\n",
    "run_name = 'iris_classification'"
   ]
  },
  {
   "cell_type": "code",
   "execution_count": 17,
   "metadata": {},
   "outputs": [],
   "source": [
    "# function to create an experiment in MLFlow and log parameters, metrics and artifiacts like images, etc\n",
    "\n",
    "def create_experiment(experiment_name, run_name, run_mertics, model, run_params=None):\n",
    "    mlflow.set_experiment(experiment_name)\n",
    "    with mlflow.start_run():\n",
    "        \n",
    "        if run_params:\n",
    "            for param in run_params:\n",
    "                mlflow.log_param(param, run_params[param])\n",
    "        \n",
    "        for metric in run_mertics:\n",
    "            mlflow.log_metric(metric, run_mertics[metric])\n",
    "        \n",
    "        # mlflow.models(model)\n",
    "        mlflow.set_tag(\"tag1\", \"LinearRegression\")\n",
    "        mlflow.set_tag(\"model\",model)\n",
    "\n",
    "    print(f\"Running {run_name} is logged to Experiment {experiment_name}\")\n",
    "        "
   ]
  },
  {
   "cell_type": "code",
   "execution_count": 18,
   "metadata": {},
   "outputs": [
    {
     "name": "stderr",
     "output_type": "stream",
     "text": [
      "2023/01/21 14:45:18 INFO mlflow.tracking.fluent: Experiment with name 'basic_model' does not exist. Creating a new experiment.\n"
     ]
    },
    {
     "name": "stdout",
     "output_type": "stream",
     "text": [
      "Running iris_classification is logged to Experiment basic_model\n"
     ]
    }
   ],
   "source": [
    "create_experiment(experiment_name, run_name, information, model)"
   ]
  },
  {
   "cell_type": "markdown",
   "metadata": {},
   "source": []
  },
  {
   "cell_type": "code",
   "execution_count": null,
   "metadata": {},
   "outputs": [],
   "source": []
  }
 ],
 "metadata": {
  "interpreter": {
   "hash": "ba26e9116cd1b37453cac8a43ad4a749be6ec94d6b07a7db027bf56d8bab80e4"
  },
  "kernelspec": {
   "display_name": "Python 3.9.1 ('venv': venv)",
   "language": "python",
   "name": "python3"
  },
  "language_info": {
   "codemirror_mode": {
    "name": "ipython",
    "version": 3
   },
   "file_extension": ".py",
   "mimetype": "text/x-python",
   "name": "python",
   "nbconvert_exporter": "python",
   "pygments_lexer": "ipython3",
   "version": "3.9.1"
  },
  "orig_nbformat": 4
 },
 "nbformat": 4,
 "nbformat_minor": 2
}
